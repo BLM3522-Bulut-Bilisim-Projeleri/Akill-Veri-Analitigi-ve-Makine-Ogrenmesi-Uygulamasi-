{
 "cells": [
  {
   "cell_type": "code",
   "execution_count": 8,
   "id": "b4eb41ac-e6e1-4469-b184-479d2723910f",
   "metadata": {
    "tags": []
   },
   "outputs": [],
   "source": [
    "#kütüphanelerin import edilmesi"
   ]
  },
  {
   "cell_type": "code",
   "execution_count": 9,
   "id": "0ad31c64-f40b-4948-a082-306181209b54",
   "metadata": {
    "tags": []
   },
   "outputs": [],
   "source": [
    "import pandas as pd\n",
    "from google.cloud import bigquery, storage\n",
    "from sklearn.model_selection import train_test_split\n",
    "from sklearn.ensemble import RandomForestClassifier\n",
    "from sklearn.metrics import classification_report\n",
    "import joblib"
   ]
  },
  {
   "cell_type": "code",
   "execution_count": 10,
   "id": "53027e84-4f66-4378-895f-0a8bdbb96367",
   "metadata": {
    "tags": []
   },
   "outputs": [],
   "source": [
    "#big query ve database bağlantısı"
   ]
  },
  {
   "cell_type": "code",
   "execution_count": 11,
   "id": "b5f80bef-510c-4513-99a0-4e88d9e70488",
   "metadata": {
    "tags": []
   },
   "outputs": [
    {
     "data": {
      "text/html": [
       "<div>\n",
       "<style scoped>\n",
       "    .dataframe tbody tr th:only-of-type {\n",
       "        vertical-align: middle;\n",
       "    }\n",
       "\n",
       "    .dataframe tbody tr th {\n",
       "        vertical-align: top;\n",
       "    }\n",
       "\n",
       "    .dataframe thead th {\n",
       "        text-align: right;\n",
       "    }\n",
       "</style>\n",
       "<table border=\"1\" class=\"dataframe\">\n",
       "  <thead>\n",
       "    <tr style=\"text-align: right;\">\n",
       "      <th></th>\n",
       "      <th>id</th>\n",
       "      <th>diagnosis</th>\n",
       "      <th>radius_mean</th>\n",
       "      <th>texture_mean</th>\n",
       "      <th>perimeter_mean</th>\n",
       "      <th>area_mean</th>\n",
       "      <th>smoothness_mean</th>\n",
       "      <th>compactness_mean</th>\n",
       "      <th>concavity_mean</th>\n",
       "      <th>concave points_mean</th>\n",
       "      <th>...</th>\n",
       "      <th>texture_worst</th>\n",
       "      <th>perimeter_worst</th>\n",
       "      <th>area_worst</th>\n",
       "      <th>smoothness_worst</th>\n",
       "      <th>compactness_worst</th>\n",
       "      <th>concavity_worst</th>\n",
       "      <th>concave points_worst</th>\n",
       "      <th>symmetry_worst</th>\n",
       "      <th>fractal_dimension_worst</th>\n",
       "      <th>string_field_32</th>\n",
       "    </tr>\n",
       "  </thead>\n",
       "  <tbody>\n",
       "    <tr>\n",
       "      <th>0</th>\n",
       "      <td>862722</td>\n",
       "      <td>B</td>\n",
       "      <td>6.981</td>\n",
       "      <td>13.43</td>\n",
       "      <td>43.79</td>\n",
       "      <td>143.5</td>\n",
       "      <td>0.11700</td>\n",
       "      <td>0.07568</td>\n",
       "      <td>0.0</td>\n",
       "      <td>0.0</td>\n",
       "      <td>...</td>\n",
       "      <td>19.54</td>\n",
       "      <td>50.41</td>\n",
       "      <td>185.2</td>\n",
       "      <td>0.15840</td>\n",
       "      <td>0.12020</td>\n",
       "      <td>0.0</td>\n",
       "      <td>0.0</td>\n",
       "      <td>0.2932</td>\n",
       "      <td>0.09382</td>\n",
       "      <td>None</td>\n",
       "    </tr>\n",
       "    <tr>\n",
       "      <th>1</th>\n",
       "      <td>868999</td>\n",
       "      <td>B</td>\n",
       "      <td>9.738</td>\n",
       "      <td>11.97</td>\n",
       "      <td>61.24</td>\n",
       "      <td>288.5</td>\n",
       "      <td>0.09250</td>\n",
       "      <td>0.04102</td>\n",
       "      <td>0.0</td>\n",
       "      <td>0.0</td>\n",
       "      <td>...</td>\n",
       "      <td>14.10</td>\n",
       "      <td>66.53</td>\n",
       "      <td>342.9</td>\n",
       "      <td>0.12340</td>\n",
       "      <td>0.07204</td>\n",
       "      <td>0.0</td>\n",
       "      <td>0.0</td>\n",
       "      <td>0.3105</td>\n",
       "      <td>0.08151</td>\n",
       "      <td>None</td>\n",
       "    </tr>\n",
       "    <tr>\n",
       "      <th>2</th>\n",
       "      <td>872113</td>\n",
       "      <td>B</td>\n",
       "      <td>8.671</td>\n",
       "      <td>14.45</td>\n",
       "      <td>54.42</td>\n",
       "      <td>227.2</td>\n",
       "      <td>0.09138</td>\n",
       "      <td>0.04276</td>\n",
       "      <td>0.0</td>\n",
       "      <td>0.0</td>\n",
       "      <td>...</td>\n",
       "      <td>17.04</td>\n",
       "      <td>58.36</td>\n",
       "      <td>259.2</td>\n",
       "      <td>0.11620</td>\n",
       "      <td>0.07057</td>\n",
       "      <td>0.0</td>\n",
       "      <td>0.0</td>\n",
       "      <td>0.2592</td>\n",
       "      <td>0.07848</td>\n",
       "      <td>None</td>\n",
       "    </tr>\n",
       "    <tr>\n",
       "      <th>3</th>\n",
       "      <td>875099</td>\n",
       "      <td>B</td>\n",
       "      <td>9.720</td>\n",
       "      <td>18.22</td>\n",
       "      <td>60.73</td>\n",
       "      <td>288.1</td>\n",
       "      <td>0.06950</td>\n",
       "      <td>0.02344</td>\n",
       "      <td>0.0</td>\n",
       "      <td>0.0</td>\n",
       "      <td>...</td>\n",
       "      <td>20.83</td>\n",
       "      <td>62.25</td>\n",
       "      <td>303.8</td>\n",
       "      <td>0.07117</td>\n",
       "      <td>0.02729</td>\n",
       "      <td>0.0</td>\n",
       "      <td>0.0</td>\n",
       "      <td>0.1909</td>\n",
       "      <td>0.06559</td>\n",
       "      <td>None</td>\n",
       "    </tr>\n",
       "    <tr>\n",
       "      <th>4</th>\n",
       "      <td>894047</td>\n",
       "      <td>B</td>\n",
       "      <td>8.597</td>\n",
       "      <td>18.60</td>\n",
       "      <td>54.09</td>\n",
       "      <td>221.2</td>\n",
       "      <td>0.10740</td>\n",
       "      <td>0.05847</td>\n",
       "      <td>0.0</td>\n",
       "      <td>0.0</td>\n",
       "      <td>...</td>\n",
       "      <td>22.44</td>\n",
       "      <td>56.65</td>\n",
       "      <td>240.1</td>\n",
       "      <td>0.13470</td>\n",
       "      <td>0.07767</td>\n",
       "      <td>0.0</td>\n",
       "      <td>0.0</td>\n",
       "      <td>0.3142</td>\n",
       "      <td>0.08116</td>\n",
       "      <td>None</td>\n",
       "    </tr>\n",
       "  </tbody>\n",
       "</table>\n",
       "<p>5 rows × 33 columns</p>\n",
       "</div>"
      ],
      "text/plain": [
       "       id diagnosis  radius_mean  texture_mean  perimeter_mean  area_mean  \\\n",
       "0  862722         B        6.981         13.43           43.79      143.5   \n",
       "1  868999         B        9.738         11.97           61.24      288.5   \n",
       "2  872113         B        8.671         14.45           54.42      227.2   \n",
       "3  875099         B        9.720         18.22           60.73      288.1   \n",
       "4  894047         B        8.597         18.60           54.09      221.2   \n",
       "\n",
       "   smoothness_mean  compactness_mean  concavity_mean  concave points_mean  \\\n",
       "0          0.11700           0.07568             0.0                  0.0   \n",
       "1          0.09250           0.04102             0.0                  0.0   \n",
       "2          0.09138           0.04276             0.0                  0.0   \n",
       "3          0.06950           0.02344             0.0                  0.0   \n",
       "4          0.10740           0.05847             0.0                  0.0   \n",
       "\n",
       "   ...  texture_worst  perimeter_worst  area_worst  smoothness_worst  \\\n",
       "0  ...          19.54            50.41       185.2           0.15840   \n",
       "1  ...          14.10            66.53       342.9           0.12340   \n",
       "2  ...          17.04            58.36       259.2           0.11620   \n",
       "3  ...          20.83            62.25       303.8           0.07117   \n",
       "4  ...          22.44            56.65       240.1           0.13470   \n",
       "\n",
       "   compactness_worst  concavity_worst  concave points_worst  symmetry_worst  \\\n",
       "0            0.12020              0.0                   0.0          0.2932   \n",
       "1            0.07204              0.0                   0.0          0.3105   \n",
       "2            0.07057              0.0                   0.0          0.2592   \n",
       "3            0.02729              0.0                   0.0          0.1909   \n",
       "4            0.07767              0.0                   0.0          0.3142   \n",
       "\n",
       "   fractal_dimension_worst  string_field_32  \n",
       "0                  0.09382             None  \n",
       "1                  0.08151             None  \n",
       "2                  0.07848             None  \n",
       "3                  0.06559             None  \n",
       "4                  0.08116             None  \n",
       "\n",
       "[5 rows x 33 columns]"
      ]
     },
     "execution_count": 11,
     "metadata": {},
     "output_type": "execute_result"
    }
   ],
   "source": [
    "# BigQuery istemcisi\n",
    "bq_client = bigquery.Client()\n",
    "\n",
    "# SQL sorgusu – tablo adını kendi projen ve datasetine göre yaz\n",
    "query = \"\"\"\n",
    "SELECT * FROM `bulutprojesi1.akilli_veri_dataset.akilli_veri_tablosu`\n",
    "\"\"\"\n",
    "\n",
    "# Veriyi pandas DataFrame olarak al\n",
    "df = bq_client.query(query).to_dataframe()\n",
    "\n",
    "# İlk 5 satırı göster\n",
    "df.head()"
   ]
  },
  {
   "cell_type": "code",
   "execution_count": 12,
   "id": "e3fff109-4c5c-444f-b888-cd6b511be44c",
   "metadata": {
    "tags": []
   },
   "outputs": [],
   "source": [
    "# Özellikler ve etiket (hedef) sütunu ayır\n",
    "X = df.drop(\"diagnosis\", axis=1)\n",
    "y = df[\"diagnosis\"]\n",
    "\n",
    "# Eğitim ve test kümeleri\n",
    "X_train, X_test, y_train, y_test = train_test_split(X, y, test_size=0.2, random_state=42)"
   ]
  },
  {
   "cell_type": "code",
   "execution_count": 13,
   "id": "c5c22e85-391c-48e7-bf55-f55d66f410db",
   "metadata": {
    "tags": []
   },
   "outputs": [
    {
     "name": "stdout",
     "output_type": "stream",
     "text": [
      "              precision    recall  f1-score   support\n",
      "\n",
      "           B       0.96      0.97      0.97        73\n",
      "           M       0.95      0.93      0.94        41\n",
      "\n",
      "    accuracy                           0.96       114\n",
      "   macro avg       0.95      0.95      0.95       114\n",
      "weighted avg       0.96      0.96      0.96       114\n",
      "\n"
     ]
    }
   ],
   "source": [
    "# Model oluştur ve eğit\n",
    "model = RandomForestClassifier(n_estimators=100, random_state=42)\n",
    "model.fit(X_train, y_train)\n",
    "\n",
    "# Test verisi üzerinde tahmin yap\n",
    "y_pred = model.predict(X_test)\n",
    "\n",
    "# Sonuçları değerlendir\n",
    "print(classification_report(y_test, y_pred))"
   ]
  },
  {
   "cell_type": "code",
   "execution_count": 14,
   "id": "0884f2c1-44df-41d7-be45-15074769867d",
   "metadata": {
    "tags": []
   },
   "outputs": [
    {
     "name": "stdout",
     "output_type": "stream",
     "text": [
      "Model başarıyla yüklendi: gs://eda-cloud-bucket/model.joblib\n"
     ]
    }
   ],
   "source": [
    "# Modeli yerel olarak kaydet\n",
    "joblib.dump(model, \"model.joblib\")\n",
    "\n",
    "# Cloud Storage istemcisi\n",
    "storage_client = storage.Client()\n",
    "bucket_name = \"eda-cloud-bucket\"  # senin bucket adın\n",
    "blob = storage_client.bucket(bucket_name).blob(\"model.joblib\")\n",
    "\n",
    "# Modeli Cloud Storage'a yükle\n",
    "blob.upload_from_filename(\"model.joblib\")\n",
    "\n",
    "print(\"Model başarıyla yüklendi: gs://eda-cloud-bucket/model.joblib\")"
   ]
  },
  {
   "cell_type": "code",
   "execution_count": 15,
   "id": "186ce305-b7cc-431b-af59-e8f7e64058d8",
   "metadata": {
    "tags": []
   },
   "outputs": [
    {
     "name": "stdout",
     "output_type": "stream",
     "text": [
      "['id' 'radius_mean' 'texture_mean' 'perimeter_mean' 'area_mean'\n",
      " 'smoothness_mean' 'compactness_mean' 'concavity_mean'\n",
      " 'concave points_mean' 'symmetry_mean' 'fractal_dimension_mean'\n",
      " 'radius_se' 'texture_se' 'perimeter_se' 'area_se' 'smoothness_se'\n",
      " 'compactness_se' 'concavity_se' 'concave points_se' 'symmetry_se'\n",
      " 'fractal_dimension_se' 'radius_worst' 'texture_worst' 'perimeter_worst'\n",
      " 'area_worst' 'smoothness_worst' 'compactness_worst' 'concavity_worst'\n",
      " 'concave points_worst' 'symmetry_worst' 'fractal_dimension_worst'\n",
      " 'string_field_32']\n",
      "32\n"
     ]
    }
   ],
   "source": [
    "import joblib\n",
    "model = joblib.load(\"model.joblib\")\n",
    "print(model.feature_names_in_)\n",
    "print(len(model.feature_names_in_))"
   ]
  },
  {
   "cell_type": "code",
   "execution_count": 16,
   "id": "d7a8e8f4-6681-485f-8f62-7054a2c9d776",
   "metadata": {
    "tags": []
   },
   "outputs": [
    {
     "name": "stdout",
     "output_type": "stream",
     "text": [
      "id                             8670\n",
      "diagnosis                         M\n",
      "radius_mean                   15.46\n",
      "texture_mean                  19.48\n",
      "perimeter_mean                101.7\n",
      "area_mean                     748.9\n",
      "smoothness_mean              0.1092\n",
      "compactness_mean             0.1223\n",
      "concavity_mean               0.1466\n",
      "concave points_mean         0.08087\n",
      "symmetry_mean                0.1931\n",
      "fractal_dimension_mean      0.05796\n",
      "radius_se                    0.4743\n",
      "texture_se                   0.7859\n",
      "perimeter_se                  3.094\n",
      "area_se                       48.31\n",
      "smoothness_se               0.00624\n",
      "compactness_se              0.01484\n",
      "concavity_se                0.02813\n",
      "concave points_se           0.01093\n",
      "symmetry_se                 0.01397\n",
      "fractal_dimension_se       0.002461\n",
      "radius_worst                  19.26\n",
      "texture_worst                  26.0\n",
      "perimeter_worst               124.9\n",
      "area_worst                   1156.0\n",
      "smoothness_worst             0.1546\n",
      "compactness_worst            0.2394\n",
      "concavity_worst              0.3791\n",
      "concave points_worst         0.1514\n",
      "symmetry_worst               0.2837\n",
      "fractal_dimension_worst     0.08019\n",
      "Unnamed: 32                     NaN\n",
      "Name: 131, dtype: object\n"
     ]
    }
   ],
   "source": [
    "import numpy as np\n",
    "\n",
    "# Veri çerçevesini yükle\n",
    "df = pd.read_csv(\"data.csv\")\n",
    "\n",
    "# Girdi verisi\n",
    "input_data = [14.2, 20.5, 95.0, 600.1, 0.1, 0.2, 0.3, 0.4, 0.1, 0.05]  # ilk 10 feature örnek\n",
    "\n",
    "# Sadece sayısal kolonları al (ilk 10 sütun)\n",
    "numeric_df = df.select_dtypes(include=[np.number]).iloc[:, :10]\n",
    "\n",
    "# En yakın satırı bul\n",
    "distances = numeric_df.apply(lambda row: np.linalg.norm(row - input_data), axis=1)\n",
    "closest_index = distances.idxmin()\n",
    "\n",
    "# En yakın satırın gerçek değerini göster\n",
    "print(df.iloc[closest_index])"
   ]
  },
  {
   "cell_type": "code",
   "execution_count": 17,
   "id": "0413dde4-ddf8-46d6-a878-71712e4dd2df",
   "metadata": {},
   "outputs": [],
   "source": [
    "#model test"
   ]
  },
  {
   "cell_type": "code",
   "execution_count": 18,
   "id": "7688f555-55e4-4343-8904-15c41ea21ee3",
   "metadata": {
    "tags": []
   },
   "outputs": [
    {
     "name": "stdout",
     "output_type": "stream",
     "text": [
      "Status code: 200\n",
      "Prediction: {'prediction': ['M']}\n"
     ]
    }
   ],
   "source": [
    "import requests\n",
    "\n",
    "url = \"https://eda-ml-api-207994772311.us-central1.run.app/predict\"\n",
    "\n",
    "data = {\n",
    "    \"features\": [[\n",
    "        100001, 14.2, 20.5, 95.0, 600.1, 0.1, 0.2, 0.3, 0.2, 0.25, 0.05,\n",
    "        0.3, 0.4, 0.5, 10.0, 0.01, 0.02, 0.03, 0.04, 0.06, 0.07,\n",
    "        16.0, 25.0, 120.0, 900.0, 0.15, 0.25, 0.35, 0.45, 0.55, 0.065,\n",
    "        0.0  # <--- Burayı 'X' yerine 0.0 yaptık\n",
    "    ]]\n",
    "}\n",
    "\n",
    "response = requests.post(url, json=data)\n",
    "print(\"Status code:\", response.status_code)\n",
    "print(\"Prediction:\", response.json())"
   ]
  }
 ],
 "metadata": {
  "kernelspec": {
   "display_name": "Python",
   "language": "python",
   "name": "base"
  },
  "language_info": {
   "codemirror_mode": {
    "name": "ipython",
    "version": 3
   },
   "file_extension": ".py",
   "mimetype": "text/x-python",
   "name": "python",
   "nbconvert_exporter": "python",
   "pygments_lexer": "ipython3",
   "version": "3.10.16"
  }
 },
 "nbformat": 4,
 "nbformat_minor": 5
}
